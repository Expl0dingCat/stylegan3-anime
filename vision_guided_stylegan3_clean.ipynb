{
 "cells": [
  {
   "cell_type": "code",
   "execution_count": null,
   "id": "5f8ba4ff-d0dd-403d-9ecf-6e64da1f539e",
   "metadata": {
    "tags": []
   },
   "outputs": [],
   "source": [
    "!pip install einops ninja gdown click scipy"
   ]
  },
  {
   "cell_type": "code",
   "execution_count": null,
   "id": "c1ea4ab1-db40-437d-b66f-e1bc3f5b05f5",
   "metadata": {
    "scrolled": true,
    "tags": []
   },
   "outputs": [],
   "source": [
    "!apt update\n",
    "!apt install git -y\n",
    "!apt install unzip\n",
    "!apt install build-essential -y"
   ]
  },
  {
   "cell_type": "code",
   "execution_count": null,
   "id": "19822eb1-91eb-4eff-85c5-630779243c99",
   "metadata": {
    "scrolled": true,
    "tags": []
   },
   "outputs": [],
   "source": [
    "!wget https://developer.download.nvidia.com/compute/cuda/repos/ubuntu2004/x86_64/cuda-ubuntu2004.pin\n",
    "!mv cuda-ubuntu2004.pin /etc/apt/preferences.d/cuda-repository-pin-600\n",
    "!wget https://developer.download.nvidia.com/compute/cuda/11.6.2/local_installers/cuda-repo-ubuntu2004-11-6-local_11.6.2-510.47.03-1_amd64.deb\n",
    "!dpkg -i cuda-repo-ubuntu2004-11-6-local_11.6.2-510.47.03-1_amd64.deb\n",
    "!apt install gnupg -y\n",
    "!apt-key add /var/cuda-repo-ubuntu2004-11-6-local/7fa2af80.pub\n",
    "!apt update\n",
    "!apt install -y cuda-toolkit-11-6\n",
    "!export PATH=/usr/local/cuda-11.6/bin:$PATH"
   ]
  },
  {
   "cell_type": "code",
   "execution_count": null,
   "id": "40c03b8b-e95d-460e-b710-9b70c9f098a6",
   "metadata": {
    "tags": []
   },
   "outputs": [],
   "source": [
    "!conda install pytorch==1.10.1 torchvision==0.11.2 torchaudio==0.10.1 cudatoolkit=11.3 -c pytorch -c conda-forge -y"
   ]
  },
  {
   "cell_type": "code",
   "execution_count": null,
   "id": "cdc6c59f-d46c-4d0d-94d4-beb35f23baf5",
   "metadata": {
    "tags": []
   },
   "outputs": [],
   "source": [
    "!pip install wandb clean-fid vision-aided-loss git+https://github.com/openai/CLIP.git imageio"
   ]
  },
  {
   "cell_type": "code",
   "execution_count": null,
   "id": "3ca78424-f4e4-41b7-be9a-339cd8478939",
   "metadata": {
    "tags": []
   },
   "outputs": [],
   "source": [
    "# pre-download model to prevent issues when launching train.py\n",
    "import clip\n",
    "clip.load('ViT-B/32', jit=False, device='cpu')"
   ]
  },
  {
   "cell_type": "code",
   "execution_count": null,
   "id": "e7642a67-13b8-4183-81a3-3e60cbcb7e9a",
   "metadata": {
    "tags": []
   },
   "outputs": [],
   "source": [
    "batch_size = 32\n",
    "gpus = 4\n",
    "kimg = 4000\n",
    "dlr=0.001\n",
    "glr=0.001\n",
    "snap=25\n",
    "gamma_value = 6 #Adjustable R1 regularization weight\n",
    "\n",
    "dataset_path = '/workspace/portraits.zip'\n",
    "resume_from ='/workspace/network-snapshot-008000.pkl'"
   ]
  },
  {
   "cell_type": "code",
   "execution_count": null,
   "id": "8aef1021-3f95-478b-8140-703a267f9122",
   "metadata": {},
   "outputs": [],
   "source": [
    "!python train.py --outdir=./results --cfg=stylegan3-t --data=$dataset_path --gpus=$gpus --batch=$batch_size \\\n",
    "--gamma=$gamma_value --kimg=$kimg --metrics=none --aug=noaug --snap=$snap --dlr=$dlr --glr=$glr\\\n",
    "--resume=$resume_from --cv=input-clip+dino+vgg+face_normals+face_seg-output-conv_multi_level+conv_multi_level+conv+conv+conv \\\n",
    "--cv-loss=multilevel_sigmoid_s+multilevel_sigmoid_s+sigmoid_s+sigmoid_s+sigmoid_s --warmup=0"
   ]
  }
 ],
 "metadata": {
  "kernelspec": {
   "display_name": "Python 3 (ipykernel)",
   "language": "python",
   "name": "python3"
  },
  "language_info": {
   "codemirror_mode": {
    "name": "ipython",
    "version": 3
   },
   "file_extension": ".py",
   "mimetype": "text/x-python",
   "name": "python",
   "nbconvert_exporter": "python",
   "pygments_lexer": "ipython3",
   "version": "3.7.13"
  },
  "vscode": {
   "interpreter": {
    "hash": "96115ba3d133a87032cd70b9a322d48617443b59c68527f3d6b41f2029e5d2d0"
   }
  }
 },
 "nbformat": 4,
 "nbformat_minor": 5
}
